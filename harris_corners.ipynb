{
 "cells": [
  {
   "cell_type": "markdown",
   "metadata": {},
   "source": [
    "# Keypoint Detection\n",
    "\n",
    "First, the reading and video lecture associated with this section:\n",
    "Szeliski 4.1.  [Mubarak Shah's Lecture on Harris Corner detection](https://www.youtube.com/watch?v=S4mMhuLHrsQ&list=UUlOghZ_xkI1km31IeoY-9Bw).\n",
    "\n",
    "Now that we have the capabililties in hand to run convolution operations on images, producing outputs that have strong responses to a variety of features (edges, for example), we are in a position to start looking for features in the image that might be good to match.  As it turns out, edges aren't good features to match at all, because they have a tendency to look similar all along the edge.  Instead, it's better to try and match corners.  This is the reasoning behind most keypoint detectors, and most panorama stitching applications work in this way.   \n",
    "\n",
    "What defines a corner?  A corner is an object where there are big changes to the image no matter which direction we look.  We can reason about whether a given image patch exhibits this property by looking at a so-called *autocorrelation function*:\n",
    "$$\n",
    "E_{ac}(\\Delta \\mathbf{u}) = \\sum_{i} w_i [I(\\mathbf{u}_i + \\Delta \\mathbf{u}) - I(\\mathbf{u}_i)]^2\n",
    "$$\n",
    "where $I$ is image intensity, $\\Delta \\mathbf{u}$ is a vector of position change, $w$ is an arbitrary kernel, and the summation is over a neighborhood of pixels.  This expression is a little unwieldly.  We can simplify it by approximating the perturbation term with a first order Taylor Series:\n",
    "$$\n",
    "E_{ac}(\\Delta \\mathbf{u}) = \\sum_{i} w_i [I(\\mathbf{u}_i) + \\nabla I(\\mathbf{u}_i) \\Delta \\mathbf{u} - I(\\mathbf{u}_i)]^2.\n",
    "$$\n",
    "The two intensity terms cancel, and we're left with an expression that only depends on the gradient of the image (which we already know how to calculate).\n",
    "$$\n",
    "E_{ac}(\\Delta \\mathbf{u}) = \\sum_{i} w_i [\\nabla I(\\mathbf{u}_i) \\Delta \\mathbf{u}]^2 = \\Delta \\mathbf{u}^T \\mathbf{A} \\Delta \\mathbf{u},\n",
    "$$\n",
    "where we can define the (pixel-wise) auto-correlation matrix:\n",
    "$$\n",
    "A = \\begin{bmatrix} \\sum_i w_i \\, \\partial_u I_i^2 & \\sum_i w_i \\;\\partial_u I_i \\;\\partial_v I_i \\\\\n",
    "                    \\sum_i w_i \\; \\partial_u I_i \\; \\partial_v I_i & \\sum_i w_i \\; \\partial_v I_i^2 \\end{bmatrix}\n",
    "                                $$\n",
    "or more concisely as \n",
    "$$\n",
    "A = w \\star \\begin{bmatrix} \\partial_u I^2 & \\partial_u I \\partial_v I \\\\\n",
    "                            \\partial_u I \\partial_v I & \\partial_v I^2 \\end{bmatrix}\n",
    "$$                            \n",
    "This matrix has all the information about corners that we need in it.  Specifically, it's telling us the way that auto-correlation changes as we move in different directions.  \n",
    "\n",
    "So given this information, what do we need to know to determine if a particular spot is a corner?  We can determine this by finding the eigenvalues of this matrix, which essentially tells us how much the autocorrelation is changing in the direction of the biggest change (the biggest eigenvalue, which we'll call $\\lambda_0$), and also in the direction orthogonal to it (the second eigenvalue $\\lambda_1$).  There are three cases that correspond to three possible situations.  First, it could be the case that both $\\lambda_0$ and $\\lambda_1$ are both very small.  This typically implies that there is not much contrast, and that there is not a corner, or even an edge.  The second case is when $\\lambda_0>>\\lambda_1$.  This implies that the image is changing alot in one direction, but not much at all in the other direction, which corresponds to an edge.  Finally we have the situation where $\\lambda_0$ and $\\lambda_1$ are both large and of similar magnitude.  This implies a corner.  The so-called Harris response \n",
    "$$h(\\mathbf u) = \\frac{\\lambda_0 \\lambda_1}{\\lambda_0 + \\lambda_1}$$ \n",
    "is designed to produce a large value whenever this latter condition is satisfied, and thus will be big for every point that is a corner.  \n",
    "\n",
    "Note that it would be inefficient to actually form the matrix $A$ and solve for eigenvalues at every point on an image.  Instead we can recognize that both the numerator and the denominator in $h(\\mathbf{u}$ are matrix invariants: $\\lambda_0 \\lambda_1 = \\mathrm{Det}(\\mathbf{A})$ and $\\lambda_0 + \\lambda_1 = \\mathrm{Tr}(\\mathbf{A})$.  Thus we get some pretty easy discrete formulas: \n",
    "$$\n",
    "H = [I_{uu} \\circ I_{vv} - I_{uv}\\circ I_{uv}] \\oslash [I_{uu} + I_{vv}],\n",
    "$$\n",
    "where $H$ is the pixel-wise Harris response and \n",
    "$$\n",
    "I_{uu} = w \\star [I_u \\circ I_u]\n",
    "$$\n",
    "$$\n",
    "I_{vv} = w \\star [I_v \\circ I_v]\n",
    "$$\n",
    "$$\n",
    "I_{uv} = w \\star [I_u \\circ I_v]\n",
    "$$\n",
    "and $\\circ$ and $\\oslash$ are elementwise multiplication and division (you will sometimes hear these operations referred to as the Hadamard product and Hadamard division). \n",
    "\n",
    "Lastly, we need to make a choice regarding our discrete convolution kernel $w$.  Empirical studies have shown that a good choice is to use a Gaussian kernel with $\\sigma=2$.  This effectively smooths the computation of the gradient over several pixels, so that small scale noise in the image does not produce spurious corners.\n",
    "\n",
    "**Write a function that computes the Harris response over an arbitrary image.  Test this function on two images: first, on the image of a chess-board that is included in this repo.  Second, test it on an image of your choosing.  Does your code produce the expected result of large Harris response at features that could qualitatively be described as corners?**"
   ]
  },
  {
   "cell_type": "code",
   "execution_count": 3,
   "metadata": {},
   "outputs": [
    {
     "data": {
      "text/plain": [
       "<Figure size 640x480 with 1 Axes>"
      ]
     },
     "metadata": {},
     "output_type": "display_data"
    }
   ],
   "source": [
    "import numpy as np\n",
    "import matplotlib.pyplot as plt\n",
    "I = plt.imread('chessboard.png')\n",
    "plt.imshow(I,cmap=plt.cm.gray)\n",
    "plt.show()"
   ]
  },
  {
   "cell_type": "markdown",
   "metadata": {},
   "source": [
    "Ultimately, what we want to do with this is to create a set of discrete points $(u,v)$ that we can match between images.  These points should correspond to local maxima in the Harris response.  **Given a Harris response matrix, write a function that extracts local maxima, and outputs an array of their coordinates**.  This can be done relatively easily via *non-linear* filtering: loop through all of the pixels in the Harris response, and determine if that pixel is the largest in its neighborhood.  If so, then it's a local maximum.  "
   ]
  },
  {
   "cell_type": "code",
   "execution_count": 4,
   "metadata": {},
   "outputs": [],
   "source": [
    "\n",
    "import numpy as np\n",
    "import matplotlib.pyplot as plt\n",
    "import time\n",
    "import scipy.misc\n",
    "import math as mt\n",
    "import imageio as im\n",
    "\n",
    "def convolve(g,h): # h is kernel, g is the image\n",
    "    I_gray_copy = g\n",
    "   \n",
    "    x,y = h.shape\n",
    "    xl = int(x/2)\n",
    "    yl = int(y/2)\n",
    "    for i in range(xl,len(g[:,1])-xl):\n",
    "        for j in range(yl, len(g[i,:])-yl):\n",
    "\n",
    "            f = g[i-xl:i+(xl+1), j-yl:j+(yl+1)] #FIXME\n",
    "            \n",
    "            total = h*f\n",
    "            I_gray_copy[i][j] = sum(sum(total)) + .0000001 \n",
    "    return I_gray_copy\n",
    "           \n",
    "def gauss_kernal(size, var):\n",
    "    kernel = np.zeros(shape=(size,size))\n",
    "    for i in range(size):\n",
    "        for j in range(size):\n",
    "            kernel[i][j] = mt.exp( -((i - (size-1)/2)**2 + (j - (size-1)/2)**2 )/(2*var*var))\n",
    "\n",
    "    kernel = kernel / kernel.sum()\n",
    "    return kernel           \n",
    "\n",
    "def harris_response(img):\n",
    "\tsobel = np.array([[-1,0,1],[-2,0,2],[-1,0,1]]) \n",
    "\tgauss = gauss_kernal(5,2)\n",
    "#calculate the harris response using sobel operator and gaussian kernel\n",
    "\n",
    "\tIu = convolve(img,sobel)\n",
    "\tIv = convolve(img,sobel.transpose())\n",
    "\n",
    "\tIuu = convolve((Iu*Iu),gauss)\n",
    "\tIvv = convolve((Iv*Iv),gauss)\n",
    "\tIuv = convolve((Iu*Iv),gauss)\n",
    "\n",
    "\tH = (Iuv*Ivv - Iuv*Iuv)/(Iuu + Ivv)\n",
    "\n",
    "\treturn H\n",
    "\n"
   ]
  },
  {
   "cell_type": "code",
   "execution_count": 5,
   "metadata": {
    "scrolled": true
   },
   "outputs": [
    {
     "name": "stderr",
     "output_type": "stream",
     "text": [
      "/home/dunbar/anaconda3/lib/python3.7/site-packages/ipykernel_launcher.py:20: RuntimeWarning: invalid value encountered in multiply\n",
      "/home/dunbar/anaconda3/lib/python3.7/site-packages/ipykernel_launcher.py:21: RuntimeWarning: invalid value encountered in add\n",
      "/home/dunbar/anaconda3/lib/python3.7/site-packages/ipykernel_launcher.py:41: RuntimeWarning: overflow encountered in multiply\n",
      "/home/dunbar/anaconda3/lib/python3.7/site-packages/ipykernel_launcher.py:42: RuntimeWarning: overflow encountered in multiply\n",
      "/home/dunbar/anaconda3/lib/python3.7/site-packages/ipykernel_launcher.py:43: RuntimeWarning: overflow encountered in multiply\n",
      "/home/dunbar/anaconda3/lib/python3.7/site-packages/ipykernel_launcher.py:45: RuntimeWarning: overflow encountered in multiply\n",
      "/home/dunbar/anaconda3/lib/python3.7/site-packages/ipykernel_launcher.py:45: RuntimeWarning: invalid value encountered in subtract\n",
      "/home/dunbar/anaconda3/lib/python3.7/site-packages/ipykernel_launcher.py:45: RuntimeWarning: overflow encountered in add\n"
     ]
    },
    {
     "data": {
      "image/png": "[encoded data removed]",
      "text/plain": [
       "<Figure size 432x288 with 1 Axes>"
      ]
     },
     "metadata": {
      "needs_background": "light"
     },
     "output_type": "display_data"
    },
    {
     "name": "stdout",
     "output_type": "stream",
     "text": [
      "[[ 0.  0.  0. ...  0.  0.  0.]\n",
      " [ 0.  0.  0. ... nan nan  0.]\n",
      " [ 0.  0.  0. ... nan nan  0.]\n",
      " ...\n",
      " [ 0. nan nan ... nan nan  0.]\n",
      " [ 0. nan nan ... nan nan  0.]\n",
      " [ 0.  0.  0. ...  0.  0.  0.]]\n"
     ]
    }
   ],
   "source": [
    "H = harris_response(I)\n",
    "plt.imshow(H,cmap=plt.cm.gray)\n",
    "plt.show()\n",
    "print(H)"
   ]
  },
  {
   "cell_type": "code",
   "execution_count": 8,
   "metadata": {},
   "outputs": [],
   "source": [
    "def getmaxima (H,threshold):\n",
    "    maxima = []\n",
    "    x,y = shape(H)\n",
    "    for i in range(1,x-1):\n",
    "        for j in range(1,y-1):\n",
    "            if H[i,j] > threshold :\n",
    "                continue\n",
    "            \n",
    "            if(    H[i,j] > H[i+1,j]   and  H[i,j] > H[i-1,j] \n",
    "               and H[i,j] > H[i,j-1]   and  H[i,j] > H[i,j+1]\n",
    "               and H[i,j] > H[i+1,j-1] and  H[i,j] > H[i+1,j+1]\n",
    "               and H[i,j] > H[i-1,j-1] and  H[i,j] > H[i-1,j+1]):\n",
    "                \n",
    "                maxima.append(i,j,H[i,j])\n",
    "    return maxima \n",
    "    \n",
    "    \n",
    "    \n",
    "    \n",
    "    "
   ]
  },
  {
   "cell_type": "code",
   "execution_count": 11,
   "metadata": {},
   "outputs": [
    {
     "ename": "IndentationError",
     "evalue": "unindent does not match any outer indentation level (<ipython-input-11-2f9bd4c6ea39>, line 6)",
     "output_type": "error",
     "traceback": [
      "\u001b[0;36m  File \u001b[0;32m\"<ipython-input-11-2f9bd4c6ea39>\"\u001b[0;36m, line \u001b[0;32m6\u001b[0m\n\u001b[0;31m    threshold = np.mean(H) + np.stddev(H)\u001b[0m\n\u001b[0m                                         ^\u001b[0m\n\u001b[0;31mIndentationError\u001b[0m\u001b[0;31m:\u001b[0m unindent does not match any outer indentation level\n"
     ]
    }
   ],
   "source": [
    "import numpy as np\n",
    "\n",
    "def nonmaxsup(H,n=100,c=.9):\n",
    "    \n",
    "\tmindistance = []\n",
    "    threshold = np.mean(H) + np.stddev(H)\n",
    "    maxima = getmaxima(H,threshold)\n",
    "    \n",
    "\tfor x,y,z in enumerate(maxima):\n",
    "\t\tmin = np.infinity\n",
    "\t\tfor xx,yy,zz in enumerate(maxima):\n",
    "\t\t\tdist = sqrt((x-xx)**2 + (y-yy)**2 )\n",
    "\t\t\tif z < c*zz and dist > 0 and dist < min:\n",
    "\t\t\t\tmin = dist\n",
    "\t\t\t\txmin = xx\n",
    "\t\t\t\tymin = yy\n",
    "\n",
    "\t\tmindistance.append((xx,yy,min))\n",
    "\n",
    "\tmindistance.sort(key=lambda x:x[2])\n",
    "\treturn mindistance[:n]\n",
    "\n",
    "\n",
    "\n",
    "\t\t"
   ]
  },
  {
   "cell_type": "code",
   "execution_count": 7,
   "metadata": {},
   "outputs": [
    {
     "ename": "ValueError",
     "evalue": "not enough values to unpack (expected 3, got 2)",
     "output_type": "error",
     "traceback": [
      "\u001b[0;31m---------------------------------------------------------------------------\u001b[0m",
      "\u001b[0;31mValueError\u001b[0m                                Traceback (most recent call last)",
      "\u001b[0;32m<ipython-input-7-0a4105ab5848>\u001b[0m in \u001b[0;36m<module>\u001b[0;34m()\u001b[0m\n\u001b[0;32m----> 1\u001b[0;31m \u001b[0mmin\u001b[0m \u001b[0;34m=\u001b[0m \u001b[0mnonmaxsup\u001b[0m\u001b[0;34m(\u001b[0m\u001b[0mH\u001b[0m\u001b[0;34m)\u001b[0m\u001b[0;34m\u001b[0m\u001b[0m\n\u001b[0m",
      "\u001b[0;32m<ipython-input-6-75775656d295>\u001b[0m in \u001b[0;36mnonmaxsup\u001b[0;34m(H, n, c)\u001b[0m\n\u001b[1;32m      3\u001b[0m \u001b[0;32mdef\u001b[0m \u001b[0mnonmaxsup\u001b[0m\u001b[0;34m(\u001b[0m\u001b[0mH\u001b[0m\u001b[0;34m,\u001b[0m\u001b[0mn\u001b[0m\u001b[0;34m=\u001b[0m\u001b[0;36m100\u001b[0m\u001b[0;34m,\u001b[0m\u001b[0mc\u001b[0m\u001b[0;34m=\u001b[0m\u001b[0;36m.9\u001b[0m\u001b[0;34m)\u001b[0m\u001b[0;34m:\u001b[0m\u001b[0;34m\u001b[0m\u001b[0m\n\u001b[1;32m      4\u001b[0m         \u001b[0mmindistance\u001b[0m \u001b[0;34m=\u001b[0m \u001b[0;34m[\u001b[0m\u001b[0;34m]\u001b[0m\u001b[0;34m\u001b[0m\u001b[0m\n\u001b[0;32m----> 5\u001b[0;31m         \u001b[0;32mfor\u001b[0m \u001b[0mx\u001b[0m\u001b[0;34m,\u001b[0m\u001b[0my\u001b[0m\u001b[0;34m,\u001b[0m\u001b[0mz\u001b[0m \u001b[0;32min\u001b[0m \u001b[0menumerate\u001b[0m\u001b[0;34m(\u001b[0m\u001b[0mH\u001b[0m\u001b[0;34m)\u001b[0m\u001b[0;34m:\u001b[0m\u001b[0;34m\u001b[0m\u001b[0m\n\u001b[0m\u001b[1;32m      6\u001b[0m                 \u001b[0mmin\u001b[0m \u001b[0;34m=\u001b[0m \u001b[0mnp\u001b[0m\u001b[0;34m.\u001b[0m\u001b[0minfinity\u001b[0m\u001b[0;34m\u001b[0m\u001b[0m\n\u001b[1;32m      7\u001b[0m                 \u001b[0;32mfor\u001b[0m \u001b[0mxx\u001b[0m\u001b[0;34m,\u001b[0m\u001b[0myy\u001b[0m\u001b[0;34m,\u001b[0m\u001b[0mzz\u001b[0m \u001b[0;32min\u001b[0m \u001b[0menumerate\u001b[0m\u001b[0;34m(\u001b[0m\u001b[0mH\u001b[0m\u001b[0;34m)\u001b[0m\u001b[0;34m:\u001b[0m\u001b[0;34m\u001b[0m\u001b[0m\n",
      "\u001b[0;31mValueError\u001b[0m: not enough values to unpack (expected 3, got 2)"
     ]
    }
   ],
   "source": [
    "min = nonmaxsup(H)\n",
    "\n"
   ]
  },
  {
   "cell_type": "code",
   "execution_count": null,
   "metadata": {},
   "outputs": [],
   "source": []
  }
 ],
 "metadata": {
  "kernelspec": {
   "display_name": "Python 3",
   "language": "python",
   "name": "python3"
  },
  "language_info": {
   "codemirror_mode": {
    "name": "ipython",
    "version": 3
   },
   "file_extension": ".py",
   "mimetype": "text/x-python",
   "name": "python",
   "nbconvert_exporter": "python",
   "pygments_lexer": "ipython3",
   "version": "3.7.0"
  }
 },
 "nbformat": 4,
 "nbformat_minor": 2
}
